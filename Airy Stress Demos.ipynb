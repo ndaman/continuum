{
 "cells": [
  {
   "cell_type": "markdown",
   "metadata": {},
   "source": [
    "# Airy Stress Function Class Examples\n",
    "\n",
    "Fist I will load some python libraries and define the stress function generator for Airy Stress"
   ]
  },
  {
   "cell_type": "code",
   "execution_count": 21,
   "metadata": {
    "collapsed": true
   },
   "outputs": [],
   "source": [
    "%matplotlib inline\n",
    "import numpy as np\n",
    "from matplotlib import pyplot as plt\n",
    "import sympy as sm\n",
    "\n",
    "xx,yy = np.meshgrid(np.linspace(-10,10,100),np.linspace(-1,1,100))\n",
    "\n",
    "def Airy(phi):\n",
    "    sx = sm.diff(phi,y,y)\n",
    "    sy = sm.diff(phi,x,x)\n",
    "    sxy = -sm.diff(phi,x,y)\n",
    "    return sx, sy, sxy"
   ]
  },
  {
   "cell_type": "markdown",
   "metadata": {},
   "source": [
    "## Uni-axial Tension"
   ]
  },
  {
   "cell_type": "code",
   "execution_count": 22,
   "metadata": {
    "collapsed": true
   },
   "outputs": [],
   "source": [
    "x,y = sm.symbols('x y')\n",
    "phi_ut = y**2\n",
    "sx_ut, sy_ut, sxy_ut = Airy(phi_ut)"
   ]
  },
  {
   "cell_type": "code",
   "execution_count": 52,
   "metadata": {},
   "outputs": [
    {
     "data": {
      "text/plain": [
       "<matplotlib.text.Text at 0x129f56a0>"
      ]
     },
     "execution_count": 52,
     "metadata": {},
     "output_type": "execute_result"
    },
    {
     "data": {
      "image/png": "[encoded data removed]",
      "text/plain": [
       "<matplotlib.figure.Figure at 0x129cc198>"
      ]
     },
     "metadata": {},
     "output_type": "display_data"
    }
   ],
   "source": [
    "fig = plt.figure(figsize=(10,1))\n",
    "ax = fig.add_subplot(111)\n",
    "temp = sm.lambdify((x,y),sx_ut)\n",
    "temp1 = sm.lambdify((x,y),sy_ut)\n",
    "temp2 = sm.lambdify((x,y),sxy_ut)\n",
    "sx = np.zeros((100,100))\n",
    "sy = np.zeros((100,100))\n",
    "sxy = np.zeros((100,100))\n",
    "for i in range(len(xx)):\n",
    "    for j in range(len(yy)):\n",
    "        sx[i,j] = temp(xx[i],yy[j])\n",
    "        sy[i,j] = temp1(xx[i],yy[j])\n",
    "        sxy[i,j] = temp2(xx[i],yy[j])\n",
    "plt.pcolormesh(xx,yy,sx,cmap='jet',vmin=-2,vmax=2)\n",
    "plt.colorbar()\n",
    "plt.title('$\\sigma_{xx}$')"
   ]
  },
  {
   "cell_type": "code",
   "execution_count": 53,
   "metadata": {},
   "outputs": [
    {
     "data": {
      "text/plain": [
       "<matplotlib.text.Text at 0x12cc1d68>"
      ]
     },
     "execution_count": 53,
     "metadata": {},
     "output_type": "execute_result"
    },
    {
     "data": {
      "image/png": "[encoded data removed]",
      "text/plain": [
       "<matplotlib.figure.Figure at 0x11a92e80>"
      ]
     },
     "metadata": {},
     "output_type": "display_data"
    }
   ],
   "source": [
    "fig = plt.figure(figsize=(10,1))\n",
    "plt.pcolormesh(xx,yy,sy,cmap='jet',vmin=-2,vmax=2)\n",
    "plt.colorbar()\n",
    "plt.title('$\\sigma_{yy}$')"
   ]
  },
  {
   "cell_type": "code",
   "execution_count": 54,
   "metadata": {},
   "outputs": [
    {
     "data": {
      "text/plain": [
       "<matplotlib.text.Text at 0x13040e80>"
      ]
     },
     "execution_count": 54,
     "metadata": {},
     "output_type": "execute_result"
    },
    {
     "data": {
      "image/png": "[encoded data removed]",
      "text/plain": [
       "<matplotlib.figure.Figure at 0x116b3d30>"
      ]
     },
     "metadata": {},
     "output_type": "display_data"
    }
   ],
   "source": [
    "fig = plt.figure(figsize=(10,1))\n",
    "plt.pcolormesh(xx,yy,sxy,cmap='jet',vmin=-2,vmax=2)\n",
    "plt.colorbar()\n",
    "plt.title('$\\sigma_{xy}$')"
   ]
  },
  {
   "cell_type": "markdown",
   "metadata": {},
   "source": [
    "## Applied Bending"
   ]
  },
  {
   "cell_type": "code",
   "execution_count": 55,
   "metadata": {},
   "outputs": [
    {
     "data": {
      "text/plain": [
       "<matplotlib.text.Text at 0x13428630>"
      ]
     },
     "execution_count": 55,
     "metadata": {},
     "output_type": "execute_result"
    },
    {
     "data": {
      "image/png": "[encoded data removed]",
      "text/plain": [
       "<matplotlib.figure.Figure at 0x13336080>"
      ]
     },
     "metadata": {},
     "output_type": "display_data"
    }
   ],
   "source": [
    "phi_b = y**3\n",
    "sx_b, sy_b, sxy_b = Airy(phi_b)\n",
    "temp = sm.lambdify((x,y),sx_b)\n",
    "temp1 = sm.lambdify((x,y),sy_b)\n",
    "temp2 = sm.lambdify((x,y),sxy_b)\n",
    "sx = np.zeros((100,100))\n",
    "sy = np.zeros((100,100))\n",
    "sxy = np.zeros((100,100))\n",
    "for i in range(len(xx)):\n",
    "    for j in range(len(yy)):\n",
    "        sx[i,j] = temp(xx[i,j],yy[i,j])\n",
    "        sy[i,j] = temp1(xx[i,j],yy[i,j])\n",
    "        sxy[i,j] = temp2(xx[i,j],yy[i,j])\n",
    "fig = plt.figure(figsize=(10,1))        \n",
    "plt.pcolormesh(xx,yy,sx,cmap='jet')\n",
    "plt.colorbar()\n",
    "plt.title('$\\sigma_{xx}$')"
   ]
  },
  {
   "cell_type": "code",
   "execution_count": 56,
   "metadata": {},
   "outputs": [
    {
     "data": {
      "text/plain": [
       "<matplotlib.text.Text at 0x137b8a20>"
      ]
     },
     "execution_count": 56,
     "metadata": {},
     "output_type": "execute_result"
    },
    {
     "data": {
      "image/png": "[encoded data removed]",
      "text/plain": [
       "<matplotlib.figure.Figure at 0x13260908>"
      ]
     },
     "metadata": {},
     "output_type": "display_data"
    }
   ],
   "source": [
    "fig = plt.figure(figsize=(10,1))\n",
    "plt.pcolormesh(xx,yy,sy,cmap='jet',vmin=-1,vmax=1)\n",
    "plt.colorbar()\n",
    "plt.title('$\\sigma_{yy}$')"
   ]
  },
  {
   "cell_type": "code",
   "execution_count": 57,
   "metadata": {},
   "outputs": [
    {
     "data": {
      "text/plain": [
       "<matplotlib.text.Text at 0x13ae3b38>"
      ]
     },
     "execution_count": 57,
     "metadata": {},
     "output_type": "execute_result"
    },
    {
     "data": {
      "image/png": "[encoded data removed]",
      "text/plain": [
       "<matplotlib.figure.Figure at 0x13919a20>"
      ]
     },
     "metadata": {},
     "output_type": "display_data"
    }
   ],
   "source": [
    "fig = plt.figure(figsize=(10,1))\n",
    "plt.pcolormesh(xx,yy,sxy,cmap='jet',vmin=-1,vmax=1)\n",
    "plt.colorbar()\n",
    "plt.title('$\\sigma_{xy}$')"
   ]
  },
  {
   "cell_type": "markdown",
   "metadata": {},
   "source": [
    "## Simply Supported"
   ]
  },
  {
   "cell_type": "code",
   "execution_count": 64,
   "metadata": {},
   "outputs": [
    {
     "data": {
      "text/plain": [
       "<matplotlib.text.Text at 0x152f17b8>"
      ]
     },
     "execution_count": 64,
     "metadata": {},
     "output_type": "execute_result"
    },
    {
     "data": {
      "image/png": "[encoded data removed]",
      "text/plain": [
       "<matplotlib.figure.Figure at 0x84d7c50>"
      ]
     },
     "metadata": {},
     "output_type": "display_data"
    }
   ],
   "source": [
    "phi_ss = 3./8*x**2*y-1./8*x**2*y**3 + 1./40*y**5 + (10**2/8.-1./20)*y**3 -1./4*x**2\n",
    "sx_ss, sy_ss, sxy_ss = Airy(phi_ss)\n",
    "temp = sm.lambdify((x,y),sx_ss)\n",
    "temp1 = sm.lambdify((x,y),sy_ss)\n",
    "temp2 = sm.lambdify((x,y),sxy_ss)\n",
    "sx = np.zeros((100,100))\n",
    "sy = np.zeros((100,100))\n",
    "sxy = np.zeros((100,100))\n",
    "for i in range(len(xx)):\n",
    "    for j in range(len(yy)):\n",
    "        sx[i,j] = temp(xx[i,j],yy[i,j])\n",
    "        sy[i,j] = temp1(xx[i,j],yy[i,j])\n",
    "        sxy[i,j] = temp2(xx[i,j],yy[i,j])\n",
    "fig = plt.figure(figsize=(10,1))        \n",
    "plt.pcolormesh(xx,yy,sx,cmap='jet')\n",
    "plt.colorbar()\n",
    "plt.title('$\\sigma_{xx}$')"
   ]
  },
  {
   "cell_type": "code",
   "execution_count": 65,
   "metadata": {},
   "outputs": [
    {
     "data": {
      "text/plain": [
       "<matplotlib.text.Text at 0x155bcd68>"
      ]
     },
     "execution_count": 65,
     "metadata": {},
     "output_type": "execute_result"
    },
    {
     "data": {
      "image/png": "[encoded data removed]",
      "text/plain": [
       "<matplotlib.figure.Figure at 0x142d74a8>"
      ]
     },
     "metadata": {},
     "output_type": "display_data"
    }
   ],
   "source": [
    "fig = plt.figure(figsize=(10,1))\n",
    "plt.pcolormesh(xx,yy,sy,cmap='jet')\n",
    "plt.colorbar()\n",
    "plt.title('$\\sigma_{yy}$')"
   ]
  },
  {
   "cell_type": "code",
   "execution_count": 67,
   "metadata": {},
   "outputs": [
    {
     "data": {
      "text/plain": [
       "<matplotlib.text.Text at 0x15c87080>"
      ]
     },
     "execution_count": 67,
     "metadata": {},
     "output_type": "execute_result"
    },
    {
     "data": {
      "image/png": "[encoded data removed]",
      "text/plain": [
       "<matplotlib.figure.Figure at 0x15b053c8>"
      ]
     },
     "metadata": {},
     "output_type": "display_data"
    }
   ],
   "source": [
    "fig = plt.figure(figsize=(10,1))\n",
    "plt.pcolormesh(xx,yy,sxy,cmap='jet')\n",
    "plt.colorbar()\n",
    "plt.title('$\\sigma_{xy}$')"
   ]
  },
  {
   "cell_type": "markdown",
   "metadata": {
    "collapsed": true
   },
   "source": [
    "## End-loaded Cantilever Beam"
   ]
  },
  {
   "cell_type": "code",
   "execution_count": 61,
   "metadata": {},
   "outputs": [
    {
     "data": {
      "text/plain": [
       "<matplotlib.text.Text at 0x13ad0b70>"
      ]
     },
     "execution_count": 61,
     "metadata": {},
     "output_type": "execute_result"
    },
    {
     "data": {
      "image/png": "[encoded data removed]",
      "text/plain": [
       "<matplotlib.figure.Figure at 0x8a82128>"
      ]
     },
     "metadata": {},
     "output_type": "display_data"
    }
   ],
   "source": [
    "phi_cl = y**3*(10.-x)-3*x*y\n",
    "sx_cl, sy_cl, sxy_cl = Airy(phi_cl)\n",
    "temp = sm.lambdify((x,y),sx_cl)\n",
    "temp1 = sm.lambdify((x,y),sy_cl)\n",
    "temp2 = sm.lambdify((x,y),sxy_cl)\n",
    "sx = np.zeros((100,100))\n",
    "sy = np.zeros((100,100))\n",
    "sxy = np.zeros((100,100))\n",
    "for i in range(len(xx)):\n",
    "    for j in range(len(yy)):\n",
    "        sx[i,j] = temp(xx[i,j],yy[i,j])\n",
    "        sy[i,j] = temp1(xx[i,j],yy[i,j])\n",
    "        sxy[i,j] = temp2(xx[i,j],yy[i,j])\n",
    "fig = plt.figure(figsize=(10,1))        \n",
    "plt.pcolormesh(xx,yy,sx,cmap='jet')\n",
    "plt.colorbar()\n",
    "plt.title('$\\sigma_{xx}$')"
   ]
  },
  {
   "cell_type": "code",
   "execution_count": 62,
   "metadata": {},
   "outputs": [
    {
     "data": {
      "text/plain": [
       "<matplotlib.text.Text at 0x14b668d0>"
      ]
     },
     "execution_count": 62,
     "metadata": {},
     "output_type": "execute_result"
    },
    {
     "data": {
      "image/png": "[encoded data removed]",
      "text/plain": [
       "<matplotlib.figure.Figure at 0x14686ef0>"
      ]
     },
     "metadata": {},
     "output_type": "display_data"
    }
   ],
   "source": [
    "fig = plt.figure(figsize=(10,1))\n",
    "plt.pcolormesh(xx,yy,sy,cmap='jet')\n",
    "plt.colorbar()\n",
    "plt.title('$\\sigma_{yy}$')"
   ]
  },
  {
   "cell_type": "code",
   "execution_count": 63,
   "metadata": {},
   "outputs": [
    {
     "data": {
      "text/plain": [
       "<matplotlib.text.Text at 0x14f09b00>"
      ]
     },
     "execution_count": 63,
     "metadata": {},
     "output_type": "execute_result"
    },
    {
     "data": {
      "image/png": "[encoded data removed]",
      "text/plain": [
       "<matplotlib.figure.Figure at 0x13c699b0>"
      ]
     },
     "metadata": {},
     "output_type": "display_data"
    }
   ],
   "source": [
    "fig = plt.figure(figsize=(10,1))\n",
    "plt.pcolormesh(xx,yy,sxy,cmap='jet')\n",
    "plt.colorbar()\n",
    "plt.title('$\\sigma_{xy}$')"
   ]
  },
  {
   "cell_type": "code",
   "execution_count": null,
   "metadata": {
    "collapsed": true
   },
   "outputs": [],
   "source": []
  }
 ],
 "metadata": {
  "kernelspec": {
   "display_name": "Python 2",
   "language": "python",
   "name": "python2"
  },
  "language_info": {
   "codemirror_mode": {
    "name": "ipython",
    "version": 2
   },
   "file_extension": ".py",
   "mimetype": "text/x-python",
   "name": "python",
   "nbconvert_exporter": "python",
   "pygments_lexer": "ipython2",
   "version": "2.7.13"
  }
 },
 "nbformat": 4,
 "nbformat_minor": 2
}
